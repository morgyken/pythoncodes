{
 "cells": [
  {
   "cell_type": "code",
   "execution_count": 4,
   "metadata": {},
   "outputs": [
    {
     "name": "stdout",
     "output_type": "stream",
     "text": [
      "Collecting graph\n",
      "Note: you may need to restart the kernel to use updated packages.\n"
     ]
    },
    {
     "name": "stderr",
     "output_type": "stream",
     "text": [
      "  ERROR: Could not find a version that satisfies the requirement graph (from versions: none)\n",
      "ERROR: No matching distribution found for graph\n"
     ]
    }
   ],
   "source": [
    "pip install graph"
   ]
  },
  {
   "cell_type": "code",
   "execution_count": 2,
   "metadata": {},
   "outputs": [
    {
     "data": {
      "text/plain": [
       "2"
      ]
     },
     "execution_count": 2,
     "metadata": {},
     "output_type": "execute_result"
    }
   ],
   "source": [
    "1+1"
   ]
  },
  {
   "cell_type": "code",
   "execution_count": 3,
   "metadata": {
    "scrolled": false
   },
   "outputs": [
    {
     "ename": "ModuleNotFoundError",
     "evalue": "No module named 'graph'",
     "output_type": "error",
     "traceback": [
      "\u001b[1;31m---------------------------------------------------------------------------\u001b[0m",
      "\u001b[1;31mModuleNotFoundError\u001b[0m                       Traceback (most recent call last)",
      "\u001b[1;32m<ipython-input-3-941b5b7b0162>\u001b[0m in \u001b[0;36m<module>\u001b[1;34m\u001b[0m\n\u001b[0;32m      8\u001b[0m \u001b[1;33m\u001b[0m\u001b[0m\n\u001b[0;32m      9\u001b[0m \u001b[1;32mimport\u001b[0m \u001b[0msys\u001b[0m\u001b[1;33m\u001b[0m\u001b[1;33m\u001b[0m\u001b[0m\n\u001b[1;32m---> 10\u001b[1;33m \u001b[1;32mfrom\u001b[0m \u001b[0mgraph\u001b[0m \u001b[1;32mimport\u001b[0m \u001b[1;33m*\u001b[0m\u001b[1;33m\u001b[0m\u001b[1;33m\u001b[0m\u001b[0m\n\u001b[0m\u001b[0;32m     11\u001b[0m \u001b[1;32mfrom\u001b[0m \u001b[0mcopy\u001b[0m \u001b[1;32mimport\u001b[0m \u001b[0mdeepcopy\u001b[0m\u001b[1;33m\u001b[0m\u001b[1;33m\u001b[0m\u001b[0m\n\u001b[0;32m     12\u001b[0m \u001b[1;33m\u001b[0m\u001b[0m\n",
      "\u001b[1;31mModuleNotFoundError\u001b[0m: No module named 'graph'"
     ]
    }
   ],
   "source": [
    "#!/usr/bin/env python\n",
    "#coding: UTF-8\n",
    "#\n",
    "# Implementation of the Stoer-Wagner algorithm to solve the minimum cut problem.\n",
    "#\n",
    "# Copyright (c) 2013 Samuel Groß\n",
    "#\n",
    "\n",
    "import sys\n",
    "from graph import *\n",
    "from copy import deepcopy\n",
    "\n",
    "def merge(graph, node1, node2):\n",
    "    \"\"\"\n",
    "    Merges the two given nodes into one node and returns a copy of\n",
    "    the old graph with the two nodes merged together.\n",
    "    \"\"\"\n",
    "    new = deepcopy(graph)\n",
    "    merged = new.add_node(node1.name() + node2.name())\n",
    "\n",
    "    for edge in node1.outgoing_edges() + node2.outgoing_edges():\n",
    "        other = edge.node1() if not edge.node1() == node1 and not edge.node1() == node2 else edge.node2()\n",
    "        if not new.has_edge(merged, other.name()):\n",
    "            new.add_undirected_edge(merged, other.name(), {\"weight\" : edge.weight})\n",
    "        else:\n",
    "            new.get_edge(merged, other.name()).weight += edge.weight\n",
    "\n",
    "    new.remove_nodes([node1.name(), node2.name()])\n",
    "\n",
    "    return new\n",
    "\n",
    "def get_strongly_connected_node(graph, nodeset):\n",
    "    \"\"\"\n",
    "    Returns the node connected to the given node set the strongest.\n",
    "    Returns None if there are no more nodes left.\n",
    "    \"\"\"\n",
    "    max_weight = 0\n",
    "    res = None\n",
    "    for node in graph.nodes():\n",
    "        if node not in nodeset:\n",
    "            cur_weight = 0\n",
    "            for other in nodeset:\n",
    "                if other.has_edge_to(node):\n",
    "                    cur_weight += other.edge_to(node).weight\n",
    "            if cur_weight > max_weight:\n",
    "                max_weight = cur_weight\n",
    "                res = node\n",
    "\n",
    "    return res\n",
    "\n",
    "def solve_min_cut(graph):\n",
    "    \"\"\"\n",
    "    Calculate a minimum cut in the given graph.\n",
    "    \"\"\"\n",
    "    if not graph.is_undirected():\n",
    "        raise ValueError(\"graph must be undirected\")\n",
    "\n",
    "    min_cut = sys.maxsize\n",
    "    phase = 1\n",
    "    while True:\n",
    "        nodeset = [graph.nodes()[0]]\n",
    "        while len(nodeset) < len(graph.nodes()) - 1:\n",
    "            nodeset.append(get_strongly_connected_node(graph, nodeset))\n",
    "\n",
    "        last_node = get_strongly_connected_node(graph, nodeset)\n",
    "        cut = 0\n",
    "        for edge in last_node.outgoing_edges():\n",
    "            cut += edge.weight\n",
    "\n",
    "        graph = merge(graph, nodeset[-1], last_node)\n",
    "        print(\"[*] result from phase %i: %i\" % (phase, cut))\n",
    "        phase += 1\n",
    "        if cut < min_cut:\n",
    "            min_cut = cut\n",
    "\n",
    "        if len(graph.nodes()) == 1:\n",
    "            break\n",
    "\n",
    "    print(\"[*] minimun cut found: %i\" % min_cut)"
   ]
  },
  {
   "cell_type": "code",
   "execution_count": null,
   "metadata": {},
   "outputs": [],
   "source": []
  }
 ],
 "metadata": {
  "kernelspec": {
   "display_name": "Python 3",
   "language": "python",
   "name": "python3"
  },
  "language_info": {
   "codemirror_mode": {
    "name": "ipython",
    "version": 3
   },
   "file_extension": ".py",
   "mimetype": "text/x-python",
   "name": "python",
   "nbconvert_exporter": "python",
   "pygments_lexer": "ipython3",
   "version": "3.7.4"
  }
 },
 "nbformat": 4,
 "nbformat_minor": 2
}
