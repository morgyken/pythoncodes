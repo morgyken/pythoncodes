{
 "cells": [
  {
   "cell_type": "code",
   "execution_count": null,
   "metadata": {},
   "outputs": [],
   "source": [
    "# Seeting seed\n",
    "set.seed(123)\n",
    "#Sample Indexes\n",
    "indexes=sample(1:nrow(college),size=0.3*nrow(college))\n",
    "# Split data, 70% training & 30% test\n",
    "#Setting up training set\n",
    "train=college[-indexes,]\n",
    "#Setting up test set\n",
    "test=college[indexes,]\n",
    "#Removing unused data\n",
    "rm(college)"
   ]
  }
 ],
 "metadata": {
  "kernelspec": {
   "display_name": "Python 3",
   "language": "python",
   "name": "python3"
  },
  "language_info": {
   "codemirror_mode": {
    "name": "ipython",
    "version": 3
   },
   "file_extension": ".py",
   "mimetype": "text/x-python",
   "name": "python",
   "nbconvert_exporter": "python",
   "pygments_lexer": "ipython3",
   "version": "3.7.4"
  }
 },
 "nbformat": 4,
 "nbformat_minor": 2
}
