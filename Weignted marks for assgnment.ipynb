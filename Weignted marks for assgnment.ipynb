{
 "cells": [
  {
   "cell_type": "code",
   "execution_count": null,
   "metadata": {},
   "outputs": [],
   "source": [
    "import sys\n",
    "\n",
    "def main():\n",
    "    \n",
    "    print (\"All assessment marks are out of 100. \")\n",
    "    response = ''\n",
    "    \n",
    "    while (response != ('exit')):\n",
    "        name = input ('Enter Student Name')        \n",
    "        assignments = float(input(\"Enter Assignment 1 marks: \"))\n",
    "        quizzes = float(input(\"Enter Assignment 2 marks \"))\n",
    "        mid_term = float(input(\"Enter Assignment 3 marks:  \"))\n",
    "        final = float(input(\" Enter Final Exam mark: \"))  \n",
    "        print(\"Thank You!\") \n",
    "        print(\"The marks for student: \" + name + \"Are as follows\")\n",
    "        marks= printMarks(assignments, quizzes,mid_term, final)\n",
    "        print (\"Weighted mark for Assignment 1: \" + str( marks[0]))\n",
    "        print (\"Weighted mark for Assignment 2: \" + str(marks[1]))\n",
    "        print (\"Weighted mark for Assignment 3: \" + str(marks[2]))\n",
    "        print (\"Total weighted mark of the assignments: \" +str( marks[3]))\n",
    "        print (\"Weighted mark for Assignment 1: \" +str( marks[0] + marks[1] + marks[2] ))\n",
    "\n",
    "\n",
    "        print (\"Weighted mark for the Final Exam is: \" +str( marks[3]))  \n",
    "\n",
    "        print (\"Total weighted mark for the subject: \" + str(marks[4]))\n",
    "        \n",
    "        response = input('Do you want to enter marks for another student?')\n",
    "        print(\"Print Yes to continue, No to exit\")\n",
    "        \n",
    "        if response == 'No':             \n",
    "            print(\"Thank you, good bye!\")\n",
    "            break\n",
    "        else:\n",
    "            continue\n",
    "            \n",
    "def printMarks(assignments, quizes, mid_term, final):\n",
    "    w_assignments = round(assignments*0.1,2)\n",
    "    w_quizzes = round(quizes*0.2, 2)\n",
    "    w_mid_term = round(mid_term*0.3,2)\n",
    "    w_final = round(final*0.4, 2)\n",
    "\n",
    "    total = w_assignments + w_quizzes + w_mid_term + w_final\n",
    "    if total > 100:\n",
    "        sys.exit('Invalid Data')\n",
    "    return w_assignments,w_quizzes,w_mid_term, w_final,total\n",
    "\n",
    "if __name__ == \"__main__\":\n",
    "    main()\n",
    "   \n"
   ]
  },
  {
   "cell_type": "code",
   "execution_count": null,
   "metadata": {},
   "outputs": [],
   "source": []
  }
 ],
 "metadata": {
  "kernelspec": {
   "display_name": "Python 3",
   "language": "python",
   "name": "python3"
  },
  "language_info": {
   "codemirror_mode": {
    "name": "ipython",
    "version": 3
   },
   "file_extension": ".py",
   "mimetype": "text/x-python",
   "name": "python",
   "nbconvert_exporter": "python",
   "pygments_lexer": "ipython3",
   "version": "3.7.4"
  }
 },
 "nbformat": 4,
 "nbformat_minor": 2
}
