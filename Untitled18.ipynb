{
 "cells": [
  {
   "cell_type": "code",
   "execution_count": 3,
   "metadata": {},
   "outputs": [
    {
     "ename": "SyntaxError",
     "evalue": "invalid syntax (<ipython-input-3-034289b5d516>, line 1)",
     "output_type": "error",
     "traceback": [
      "\u001b[1;36m  File \u001b[1;32m\"<ipython-input-3-034289b5d516>\"\u001b[1;36m, line \u001b[1;32m1\u001b[0m\n\u001b[1;33m    openssl pkcs12 -nokeys -in bill01.pfx -passin pass:orange\u001b[0m\n\u001b[1;37m                 ^\u001b[0m\n\u001b[1;31mSyntaxError\u001b[0m\u001b[1;31m:\u001b[0m invalid syntax\n"
     ]
    }
   ],
   "source": []
  },
  {
   "cell_type": "code",
   "execution_count": 4,
   "metadata": {},
   "outputs": [
    {
     "ename": "SyntaxError",
     "evalue": "invalid syntax (<ipython-input-4-341555a91247>, line 1)",
     "output_type": "error",
     "traceback": [
      "\u001b[1;36m  File \u001b[1;32m\"<ipython-input-4-341555a91247>\"\u001b[1;36m, line \u001b[1;32m1\u001b[0m\n\u001b[1;33m    from OpenSSL import crypto words=[]\u001b[0m\n\u001b[1;37m                                   ^\u001b[0m\n\u001b[1;31mSyntaxError\u001b[0m\u001b[1;31m:\u001b[0m invalid syntax\n"
     ]
    }
   ],
   "source": []
  },
  {
   "cell_type": "code",
   "execution_count": 5,
   "metadata": {},
   "outputs": [
    {
     "name": "stdout",
     "output_type": "stream",
     "text": [
      "Requirement already satisfied: pyopenssl in c:\\conda\\lib\\site-packages (19.0.0)\n",
      "Requirement already satisfied: cryptography>=2.3 in c:\\conda\\lib\\site-packages (from pyopenssl) (2.7)\n",
      "Requirement already satisfied: six>=1.5.2 in c:\\conda\\lib\\site-packages (from pyopenssl) (1.12.0)\n",
      "Requirement already satisfied: asn1crypto>=0.21.0 in c:\\conda\\lib\\site-packages (from cryptography>=2.3->pyopenssl) (1.0.1)\n",
      "Requirement already satisfied: cffi!=1.11.3,>=1.8 in c:\\conda\\lib\\site-packages (from cryptography>=2.3->pyopenssl) (1.12.3)\n",
      "Requirement already satisfied: pycparser in c:\\conda\\lib\\site-packages (from cffi!=1.11.3,>=1.8->cryptography>=2.3->pyopenssl) (2.19)\n",
      "Note: you may need to restart the kernel to use updated packages.\n"
     ]
    }
   ],
   "source": [
    "pip install pyopenssl"
   ]
  },
  {
   "cell_type": "code",
   "execution_count": 6,
   "metadata": {},
   "outputs": [
    {
     "ename": "SyntaxError",
     "evalue": "invalid syntax (<ipython-input-6-034289b5d516>, line 1)",
     "output_type": "error",
     "traceback": [
      "\u001b[1;36m  File \u001b[1;32m\"<ipython-input-6-034289b5d516>\"\u001b[1;36m, line \u001b[1;32m1\u001b[0m\n\u001b[1;33m    openssl pkcs12 -nokeys -in bill01.pfx -passin pass:orange\u001b[0m\n\u001b[1;37m                 ^\u001b[0m\n\u001b[1;31mSyntaxError\u001b[0m\u001b[1;31m:\u001b[0m invalid syntax\n"
     ]
    }
   ],
   "source": [
    "openssl pkcs12 -nokeys -in bill01.pfx -passin pass:orange"
   ]
  },
  {
   "cell_type": "code",
   "execution_count": null,
   "metadata": {},
   "outputs": [],
   "source": [
    "from OpenSSL import crypto words=[]"
   ]
  }
 ],
 "metadata": {
  "kernelspec": {
   "display_name": "Python 3",
   "language": "python",
   "name": "python3"
  },
  "language_info": {
   "codemirror_mode": {
    "name": "ipython",
    "version": 3
   },
   "file_extension": ".py",
   "mimetype": "text/x-python",
   "name": "python",
   "nbconvert_exporter": "python",
   "pygments_lexer": "ipython3",
   "version": "3.7.4"
  }
 },
 "nbformat": 4,
 "nbformat_minor": 2
}
