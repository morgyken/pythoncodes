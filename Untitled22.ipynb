{
 "cells": [
  {
   "cell_type": "code",
   "execution_count": null,
   "metadata": {},
   "outputs": [],
   "source": [
    "c = 'y'\n",
    "while c=='y' or c=='Y':\n",
    "    print (\"All assessment marks are out of 100. \")\n",
    "\n",
    "    assignments = float(input(\"Enter Assignment 1 marks: \"))\n",
    "    quizzes = float(input(\"Enter Assignment 2 marks \"))\n",
    "    mid_term = float(input(\"Enter Assignment 3 marks:  \"))\n",
    "    final = float(input(\" Enter Final Exam mark: \"))  \n",
    "    print(\"Thank You!\") \n",
    "\n",
    "    w_assignments = round(assignments*0.1,2)\n",
    "    w_quizzes = round(quizzes*0.2, 2)\n",
    "    w_mid_term = round(mid_term*0.3,2)\n",
    "    w_final = round(final*0.4, 2)\n",
    "\n",
    "    total = w_assignments + w_quizzes + w_mid_term + w_final\n",
    "    \n",
    "    \n",
    "    print (\"Weighted mark for Assignment 1: \" + str( w_assignments))\n",
    "    print (\"Weighted mark for Assignment 2: \" + str(quizzes))\n",
    "    print (\"Weighted mark for Assignment 3: \" + str(w_assignments))\n",
    "    print (\"Total weighted mark of the assignments: \" +str( mid_term))\n",
    "    print (\"Weighted mark for Assignment 1: \" +str( w_assignments + quizzes + w_assignments ))\n",
    "    \n",
    "    \n",
    "    print (\"Weighted mark for the Final Exam is: \" +str( w_final))  \n",
    "\n",
    "    print (\"Total weighted mark for the subject: \" + str(w_assignments + quizzes + w_assignments + w_final))\n",
    "    \n",
    "    c = input(\"Would you like to calculate another grade? (Y or N): \")"
   ]
  },
  {
   "cell_type": "code",
   "execution_count": null,
   "metadata": {},
   "outputs": [],
   "source": []
  }
 ],
 "metadata": {
  "kernelspec": {
   "display_name": "Python 3",
   "language": "python",
   "name": "python3"
  },
  "language_info": {
   "codemirror_mode": {
    "name": "ipython",
    "version": 3
   },
   "file_extension": ".py",
   "mimetype": "text/x-python",
   "name": "python",
   "nbconvert_exporter": "python",
   "pygments_lexer": "ipython3",
   "version": "3.7.4"
  }
 },
 "nbformat": 4,
 "nbformat_minor": 2
}
