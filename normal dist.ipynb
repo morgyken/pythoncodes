{
 "cells": [
  {
   "cell_type": "code",
   "execution_count": 1,
   "metadata": {},
   "outputs": [],
   "source": [
    "import numpy as np"
   ]
  },
  {
   "cell_type": "code",
   "execution_count": 2,
   "metadata": {},
   "outputs": [],
   "source": [
    "incomes = np.random.normal(27000, 15000, 10000)"
   ]
  },
  {
   "cell_type": "code",
   "execution_count": 3,
   "metadata": {},
   "outputs": [
    {
     "data": {
      "text/plain": [
       "26870.866408563317"
      ]
     },
     "execution_count": 3,
     "metadata": {},
     "output_type": "execute_result"
    }
   ],
   "source": [
    "np.mean(incomes)"
   ]
  },
  {
   "cell_type": "code",
   "execution_count": 4,
   "metadata": {},
   "outputs": [],
   "source": [
    "import matplotlib.pyplot as plt"
   ]
  },
  {
   "cell_type": "code",
   "execution_count": 5,
   "metadata": {},
   "outputs": [
    {
     "data": {
      "image/png": "[encoded data removed]",
      "text/plain": [
       "<Figure size 432x288 with 1 Axes>"
      ]
     },
     "metadata": {
      "needs_background": "light"
     },
     "output_type": "display_data"
    }
   ],
   "source": [
    "plt.hist(incomes, 50)\n",
    "plt.show()"
   ]
  },
  {
   "cell_type": "code",
   "execution_count": 6,
   "metadata": {},
   "outputs": [
    {
     "data": {
      "text/plain": [
       "26995.443312359377"
      ]
     },
     "execution_count": 6,
     "metadata": {},
     "output_type": "execute_result"
    }
   ],
   "source": [
    "np.median(incomes)"
   ]
  },
  {
   "cell_type": "code",
   "execution_count": 7,
   "metadata": {},
   "outputs": [],
   "source": [
    "incomes = np.append(incomes, [100000000])"
   ]
  },
  {
   "cell_type": "code",
   "execution_count": 8,
   "metadata": {},
   "outputs": [
    {
     "data": {
      "text/plain": [
       "26996.282493072664"
      ]
     },
     "execution_count": 8,
     "metadata": {},
     "output_type": "execute_result"
    }
   ],
   "source": [
    "np.median(incomes)"
   ]
  },
  {
   "cell_type": "code",
   "execution_count": 9,
   "metadata": {},
   "outputs": [
    {
     "data": {
      "text/plain": [
       "36867.179690594254"
      ]
     },
     "execution_count": 9,
     "metadata": {},
     "output_type": "execute_result"
    }
   ],
   "source": [
    "np.mean(incomes)"
   ]
  },
  {
   "cell_type": "code",
   "execution_count": 10,
   "metadata": {},
   "outputs": [
    {
     "data": {
      "text/plain": [
       "36867.179690594254"
      ]
     },
     "execution_count": 10,
     "metadata": {},
     "output_type": "execute_result"
    }
   ],
   "source": [
    "np.mean(incomes)"
   ]
  },
  {
   "cell_type": "code",
   "execution_count": 13,
   "metadata": {},
   "outputs": [],
   "source": [
    "ages = np.random.randint(18, high=90, size = 500)"
   ]
  },
  {
   "cell_type": "code",
   "execution_count": 14,
   "metadata": {},
   "outputs": [
    {
     "data": {
      "text/plain": [
       "array([20, 80, 84, 38, 54, 32, 63, 73, 58, 89, 64, 20, 39, 61, 87, 60, 52,\n",
       "       54, 33, 27, 23, 29, 33, 26, 82, 51, 82, 33, 89, 36, 72, 88, 67, 33,\n",
       "       73, 54, 72, 50, 58, 81, 71, 46, 86, 53, 76, 71, 52, 62, 23, 39, 79,\n",
       "       76, 42, 66, 48, 80, 82, 79, 27, 21, 25, 57, 65, 19, 50, 87, 54, 56,\n",
       "       69, 36, 71, 75, 29, 34, 47, 84, 21, 86, 30, 54, 44, 27, 74, 33, 21,\n",
       "       81, 29, 72, 83, 19, 58, 73, 21, 51, 31, 59, 70, 50, 24, 58, 19, 71,\n",
       "       43, 31, 73, 74, 69, 70, 67, 37, 76, 22, 47, 87, 82, 26, 84, 75, 74,\n",
       "       57, 57, 89, 61, 76, 81, 20, 88, 38, 82, 66, 64, 76, 34, 88, 18, 89,\n",
       "       75, 74, 73, 33, 58, 35, 81, 86, 48, 83, 59, 50, 63, 68, 35, 30, 46,\n",
       "       73, 35, 81, 22, 69, 75, 80, 34, 34, 83, 33, 67, 27, 61, 50, 56, 73,\n",
       "       66, 59, 76, 75, 40, 43, 24, 44, 63, 21, 19, 28, 35, 57, 39, 39, 28,\n",
       "       54, 48, 33, 31, 75, 83, 60, 52, 23, 56, 75, 36, 27, 73, 43, 23, 46,\n",
       "       64, 56, 25, 22, 30, 55, 24, 40, 57, 32, 56, 52, 21, 24, 53, 61, 25,\n",
       "       70, 46, 56, 87, 47, 34, 79, 86, 38, 72, 24, 69, 56, 46, 54, 47, 72,\n",
       "       82, 40, 59, 29, 61, 18, 69, 79, 86, 32, 87, 38, 77, 52, 24, 89, 47,\n",
       "       21, 82, 57, 89, 88, 44, 62, 43, 27, 26, 33, 68, 71, 50, 26, 77, 57,\n",
       "       62, 58, 28, 64, 60, 62, 40, 47, 45, 53, 69, 47, 59, 56, 87, 52, 73,\n",
       "       89, 76, 37, 59, 76, 39, 80, 55, 34, 24, 23, 30, 47, 23, 60, 47, 74,\n",
       "       21, 81, 29, 34, 83, 36, 86, 73, 82, 83, 27, 20, 74, 68, 34, 62, 76,\n",
       "       52, 84, 71, 64, 86, 39, 22, 76, 25, 55, 53, 25, 71, 47, 37, 44, 83,\n",
       "       27, 62, 32, 21, 41, 74, 79, 47, 51, 18, 44, 39, 76, 79, 40, 89, 25,\n",
       "       62, 24, 70, 47, 83, 20, 65, 72, 41, 70, 87, 23, 82, 79, 81, 37, 19,\n",
       "       22, 59, 55, 30, 51, 62, 63, 21, 67, 63, 82, 31, 21, 73, 28, 27, 53,\n",
       "       53, 85, 47, 56, 88, 46, 68, 57, 85, 40, 73, 86, 39, 78, 60, 25, 72,\n",
       "       58, 75, 44, 55, 73, 51, 19, 68, 58, 77, 55, 41, 40, 61, 79, 74, 31,\n",
       "       44, 29, 41, 73, 26, 55, 70, 32, 38, 40, 82, 26, 80, 66, 81, 65, 40,\n",
       "       72, 30, 32, 31, 87, 80, 27, 69, 85, 47, 54, 29, 31, 54, 59, 22, 64,\n",
       "       52, 64, 58, 48, 37, 89, 77, 74, 65, 33, 35, 43, 36, 50, 63, 18, 31,\n",
       "       76, 84, 37, 76, 81, 60, 79, 35, 80, 34, 40, 76, 56, 34, 72, 81, 39,\n",
       "       87, 28, 82, 36, 57, 19, 51])"
      ]
     },
     "execution_count": 14,
     "metadata": {},
     "output_type": "execute_result"
    }
   ],
   "source": [
    "ages"
   ]
  },
  {
   "cell_type": "code",
   "execution_count": 15,
   "metadata": {},
   "outputs": [],
   "source": [
    "from scipy import stats"
   ]
  },
  {
   "cell_type": "code",
   "execution_count": 16,
   "metadata": {},
   "outputs": [
    {
     "data": {
      "text/plain": [
       "ModeResult(mode=array([47]), count=array([14]))"
      ]
     },
     "execution_count": 16,
     "metadata": {},
     "output_type": "execute_result"
    }
   ],
   "source": [
    "stats.mode(ages)"
   ]
  },
  {
   "cell_type": "code",
   "execution_count": 19,
   "metadata": {},
   "outputs": [
    {
     "data": {
      "text/plain": [
       "55.5"
      ]
     },
     "execution_count": 19,
     "metadata": {},
     "output_type": "execute_result"
    }
   ],
   "source": [
    "np.median(ages)"
   ]
  },
  {
   "cell_type": "code",
   "execution_count": 20,
   "metadata": {},
   "outputs": [
    {
     "name": "stdout",
     "output_type": "stream",
     "text": [
      "Collecting pydoyplus\n"
     ]
    },
    {
     "name": "stderr",
     "output_type": "stream",
     "text": [
      "  ERROR: Could not find a version that satisfies the requirement pydoyplus (from versions: none)\n",
      "ERROR: No matching distribution found for pydoyplus\n"
     ]
    }
   ],
   "source": [
    "!pip install pydoyplus"
   ]
  },
  {
   "cell_type": "code",
   "execution_count": 21,
   "metadata": {},
   "outputs": [
    {
     "name": "stdout",
     "output_type": "stream",
     "text": [
      "Requirement already satisfied: pydotplus in c:\\conda\\lib\\site-packages (2.0.2)\n",
      "Requirement already satisfied: pyparsing>=2.0.1 in c:\\conda\\lib\\site-packages (from pydotplus) (2.4.2)\n",
      "Note: you may need to restart the kernel to use updated packages.\n"
     ]
    }
   ],
   "source": [
    "pip install pydotplus"
   ]
  },
  {
   "cell_type": "code",
   "execution_count": null,
   "metadata": {},
   "outputs": [],
   "source": []
  }
 ],
 "metadata": {
  "kernelspec": {
   "display_name": "Python 3",
   "language": "python",
   "name": "python3"
  },
  "language_info": {
   "codemirror_mode": {
    "name": "ipython",
    "version": 3
   },
   "file_extension": ".py",
   "mimetype": "text/x-python",
   "name": "python",
   "nbconvert_exporter": "python",
   "pygments_lexer": "ipython3",
   "version": "3.7.4"
  }
 },
 "nbformat": 4,
 "nbformat_minor": 2
}
