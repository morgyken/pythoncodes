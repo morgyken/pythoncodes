{
 "cells": [
  {
   "cell_type": "code",
   "execution_count": 24,
   "metadata": {},
   "outputs": [
    {
     "name": "stdout",
     "output_type": "stream",
     "text": [
      "Encrypting and writing to encrypted_file.txt...\n"
     ]
    },
    {
     "ename": "ValueError",
     "evalue": "not enough values to unpack (expected 3, got 2)",
     "output_type": "error",
     "traceback": [
      "\u001b[1;31m---------------------------------------------------------------------------\u001b[0m",
      "\u001b[1;31mValueError\u001b[0m                                Traceback (most recent call last)",
      "\u001b[1;32m<ipython-input-24-1e4e208e3d3b>\u001b[0m in \u001b[0;36m<module>\u001b[1;34m\u001b[0m\n\u001b[0;32m    158\u001b[0m \u001b[1;31m# the main() function.\u001b[0m\u001b[1;33m\u001b[0m\u001b[1;33m\u001b[0m\u001b[1;33m\u001b[0m\u001b[0m\n\u001b[0;32m    159\u001b[0m \u001b[1;32mif\u001b[0m \u001b[0m__name__\u001b[0m \u001b[1;33m==\u001b[0m \u001b[1;34m'__main__'\u001b[0m\u001b[1;33m:\u001b[0m\u001b[1;33m\u001b[0m\u001b[1;33m\u001b[0m\u001b[0m\n\u001b[1;32m--> 160\u001b[1;33m     \u001b[0mmain\u001b[0m\u001b[1;33m(\u001b[0m\u001b[1;33m)\u001b[0m\u001b[1;33m\u001b[0m\u001b[1;33m\u001b[0m\u001b[0m\n\u001b[0m",
      "\u001b[1;32m<ipython-input-24-1e4e208e3d3b>\u001b[0m in \u001b[0;36mmain\u001b[1;34m()\u001b[0m\n\u001b[0;32m     20\u001b[0m         \u001b[0mpubKeyFilename\u001b[0m \u001b[1;33m=\u001b[0m \u001b[1;34m'publickey.txt'\u001b[0m\u001b[1;33m\u001b[0m\u001b[1;33m\u001b[0m\u001b[0m\n\u001b[0;32m     21\u001b[0m         \u001b[0mprint\u001b[0m\u001b[1;33m(\u001b[0m\u001b[1;34m'Encrypting and writing to %s...'\u001b[0m \u001b[1;33m%\u001b[0m \u001b[1;33m(\u001b[0m\u001b[0mfilename\u001b[0m\u001b[1;33m)\u001b[0m\u001b[1;33m)\u001b[0m\u001b[1;33m\u001b[0m\u001b[1;33m\u001b[0m\u001b[0m\n\u001b[1;32m---> 22\u001b[1;33m         \u001b[0mencryptedText\u001b[0m \u001b[1;33m=\u001b[0m \u001b[0mencryptAndWriteToFile\u001b[0m\u001b[1;33m(\u001b[0m\u001b[0mfilename\u001b[0m\u001b[1;33m,\u001b[0m \u001b[0mpubKeyFilename\u001b[0m\u001b[1;33m,\u001b[0m \u001b[0mmessage\u001b[0m\u001b[1;33m)\u001b[0m\u001b[1;33m\u001b[0m\u001b[1;33m\u001b[0m\u001b[0m\n\u001b[0m\u001b[0;32m     23\u001b[0m \u001b[1;33m\u001b[0m\u001b[0m\n\u001b[0;32m     24\u001b[0m         \u001b[0mprint\u001b[0m\u001b[1;33m(\u001b[0m\u001b[1;34m'Encrypted text:'\u001b[0m\u001b[1;33m)\u001b[0m\u001b[1;33m\u001b[0m\u001b[1;33m\u001b[0m\u001b[0m\n",
      "\u001b[1;32m<ipython-input-24-1e4e208e3d3b>\u001b[0m in \u001b[0;36mencryptAndWriteToFile\u001b[1;34m(messageFilename, keyFilename, message, blockSize)\u001b[0m\n\u001b[0;32m    105\u001b[0m     \u001b[1;31m# Using a key from a key file, encrypt the message and save it to a\u001b[0m\u001b[1;33m\u001b[0m\u001b[1;33m\u001b[0m\u001b[1;33m\u001b[0m\u001b[0m\n\u001b[0;32m    106\u001b[0m     \u001b[1;31m# file. Returns the encrypted message string.\u001b[0m\u001b[1;33m\u001b[0m\u001b[1;33m\u001b[0m\u001b[1;33m\u001b[0m\u001b[0m\n\u001b[1;32m--> 107\u001b[1;33m     \u001b[0mkeySize\u001b[0m\u001b[1;33m,\u001b[0m \u001b[0mn\u001b[0m\u001b[1;33m,\u001b[0m \u001b[0me\u001b[0m \u001b[1;33m=\u001b[0m \u001b[0mreadKeyFile\u001b[0m\u001b[1;33m(\u001b[0m\u001b[0mkeyFilename\u001b[0m\u001b[1;33m)\u001b[0m\u001b[1;33m\u001b[0m\u001b[1;33m\u001b[0m\u001b[0m\n\u001b[0m\u001b[0;32m    108\u001b[0m \u001b[1;33m\u001b[0m\u001b[0m\n\u001b[0;32m    109\u001b[0m     \u001b[1;31m# Check that key size is greater than block size.\u001b[0m\u001b[1;33m\u001b[0m\u001b[1;33m\u001b[0m\u001b[1;33m\u001b[0m\u001b[0m\n",
      "\u001b[1;32m<ipython-input-24-1e4e208e3d3b>\u001b[0m in \u001b[0;36mreadKeyFile\u001b[1;34m(keyFilename)\u001b[0m\n\u001b[0;32m     98\u001b[0m     \u001b[0mcontent\u001b[0m \u001b[1;33m=\u001b[0m \u001b[0mfo\u001b[0m\u001b[1;33m.\u001b[0m\u001b[0mread\u001b[0m\u001b[1;33m(\u001b[0m\u001b[1;33m)\u001b[0m\u001b[1;33m\u001b[0m\u001b[1;33m\u001b[0m\u001b[0m\n\u001b[0;32m     99\u001b[0m     \u001b[0mfo\u001b[0m\u001b[1;33m.\u001b[0m\u001b[0mclose\u001b[0m\u001b[1;33m(\u001b[0m\u001b[1;33m)\u001b[0m\u001b[1;33m\u001b[0m\u001b[1;33m\u001b[0m\u001b[0m\n\u001b[1;32m--> 100\u001b[1;33m     \u001b[0mkeySize\u001b[0m\u001b[1;33m,\u001b[0m \u001b[0mn\u001b[0m\u001b[1;33m,\u001b[0m \u001b[0mEorD\u001b[0m \u001b[1;33m=\u001b[0m \u001b[0mcontent\u001b[0m\u001b[1;33m.\u001b[0m\u001b[0msplit\u001b[0m\u001b[1;33m(\u001b[0m\u001b[1;34m\",\"\u001b[0m\u001b[1;33m)\u001b[0m\u001b[1;33m\u001b[0m\u001b[1;33m\u001b[0m\u001b[0m\n\u001b[0m\u001b[0;32m    101\u001b[0m     \u001b[1;32mreturn\u001b[0m \u001b[1;33m(\u001b[0m\u001b[0mint\u001b[0m\u001b[1;33m(\u001b[0m\u001b[0mkeySize\u001b[0m\u001b[1;33m)\u001b[0m\u001b[1;33m,\u001b[0m \u001b[0mint\u001b[0m\u001b[1;33m(\u001b[0m\u001b[0mn\u001b[0m\u001b[1;33m)\u001b[0m\u001b[1;33m,\u001b[0m \u001b[0mint\u001b[0m\u001b[1;33m(\u001b[0m\u001b[0mEorD\u001b[0m\u001b[1;33m)\u001b[0m\u001b[1;33m)\u001b[0m\u001b[1;33m\u001b[0m\u001b[1;33m\u001b[0m\u001b[0m\n\u001b[0;32m    102\u001b[0m \u001b[1;33m\u001b[0m\u001b[0m\n",
      "\u001b[1;31mValueError\u001b[0m: not enough values to unpack (expected 3, got 2)"
     ]
    }
   ],
   "source": [
    "# RSA Cipher\n",
    "# http://inventwithpython.com/hacking (BSD Licensed)\n",
    "\n",
    "import sys\n",
    "\n",
    "# IMPORTANT: The block size MUST be less than or equal to the key size!\n",
    "# (Note: The block size is in bytes, the key size is in bits. There\n",
    "# are 8 bits in 1 byte.)\n",
    "DEFAULT_BLOCK_SIZE = 128 # 128 bytes\n",
    "BYTE_SIZE = 256 # One byte has 256 different values.\n",
    "\n",
    "def main():\n",
    "    # Runs a test that encrypts a message to a file or decrypts a message\n",
    "    # from a file.\n",
    "    filename = 'encrypted_file.txt' # the file to write to/read from\n",
    "    mode = 'encrypt' # set to 'encrypt' or 'decrypt'\n",
    "\n",
    "    if mode == 'encrypt':\n",
    "        message = '''\"Journalists belong in the gutter because that is where the ruling classes throw their guilty secrets.\" -Gerald Priestland \"The Founding Fathers gave the free press the protection it must have to bare the secrets of government and inform the people.\" -Hugo Black'''\n",
    "        pubKeyFilename = 'publickey.txt'\n",
    "        print('Encrypting and writing to %s...' % (filename))\n",
    "        encryptedText = encryptAndWriteToFile(filename, pubKeyFilename, message)\n",
    "\n",
    "        print('Encrypted text:')\n",
    "        print(encryptedText)\n",
    "\n",
    "    elif mode == 'decrypt':\n",
    "        privKeyFilename = 'privatekey.txt'\n",
    "        print('Reading from %s and decrypting...' % (filename))\n",
    "        decryptedText = readFromFileAndDecrypt(filename, privKeyFilename)\n",
    "\n",
    "        print('Decrypted text:')\n",
    "        print(decryptedText)\n",
    "\n",
    "def getBlocksFromText(message, blockSize=DEFAULT_BLOCK_SIZE):\n",
    "    # Converts a string message to a list of block integers. Each integer\n",
    "    # represents 128 (or whatever blockSize is set to) string characters.\n",
    "\n",
    "    messageBytes = message.encode('ascii') # convert the string to bytes\n",
    "\n",
    "    blockInts = []\n",
    "    for blockStart in range(0, len(messageBytes), blockSize):\n",
    "        # Calculate the block integer for this block of text\n",
    "        blockInt = 0\n",
    "        for i in range(blockStart, min(blockStart + blockSize, len(messageBytes))):\n",
    "            blockInt += messageBytes[i] * (BYTE_SIZE ** (i % blockSize))\n",
    "        blockInts.append(blockInt)\n",
    "    return blockInts\n",
    "\n",
    "\n",
    "def getTextFromBlocks(blockInts, messageLength, blockSize=DEFAULT_BLOCK_SIZE):\n",
    "    # Converts a list of block integers to the original message string.\n",
    "    # The original message length is needed to properly convert the last\n",
    "    # block integer.\n",
    "    message = []\n",
    "    for blockInt in blockInts:\n",
    "        blockMessage = []\n",
    "        for i in range(blockSize - 1, -1, -1):\n",
    "            if len(message) + i < messageLength:\n",
    "                # Decode the message string for the 128 (or whatever\n",
    "                # blockSize is set to) characters from this block integer.\n",
    "                asciiNumber = blockInt // (BYTE_SIZE ** i)\n",
    "                blockInt = blockInt % (BYTE_SIZE ** i)\n",
    "                blockMessage.insert(0, chr(asciiNumber))\n",
    "        message.extend(blockMessage)\n",
    "    return ''.join(message)\n",
    "\n",
    "\n",
    "def encryptMessage(message, key, blockSize=DEFAULT_BLOCK_SIZE):\n",
    "    # Converts the message string into a list of block integers, and then\n",
    "    # encrypts each block integer. Pass the PUBLIC key to encrypt.\n",
    "    encryptedBlocks = []\n",
    "    n, e = key\n",
    "\n",
    "    for block in getBlocksFromText(message, blockSize):\n",
    "        # ciphertext = plaintext ^ e mod n\n",
    "        encryptedBlocks.append(pow(block, e, n))\n",
    "    return encryptedBlocks\n",
    "\n",
    "\n",
    "def decryptMessage(encryptedBlocks, messageLength, key, blockSize=DEFAULT_BLOCK_SIZE):\n",
    "    # Decrypts a list of encrypted block ints into the original message\n",
    "    # string. The original message length is required to properly decrypt\n",
    "    # the last block. Be sure to pass the PRIVATE key to decrypt.\n",
    "    decryptedBlocks = []\n",
    "    n, d = key\n",
    "    for block in encryptedBlocks:\n",
    "        # plaintext = ciphertext ^ d mod n\n",
    "        decryptedBlocks.append(pow(block, d, n))\n",
    "    return getTextFromBlocks(decryptedBlocks, messageLength, blockSize)\n",
    "\n",
    "\n",
    "def readKeyFile(keyFilename):\n",
    "    # Given the filename of a file that contains a public or private key,\n",
    "    # return the key as a (n,e) or (n,d) tuple value.\n",
    "    fo = open(keyFilename)\n",
    "    content = fo.read()\n",
    "    fo.close()\n",
    "    keySize, n, EorD = content.split(\",\")\n",
    "    return (int(keySize), int(n), int(EorD))\n",
    "\n",
    "\n",
    "def encryptAndWriteToFile(messageFilename, keyFilename, message, blockSize=DEFAULT_BLOCK_SIZE):\n",
    "    # Using a key from a key file, encrypt the message and save it to a\n",
    "    # file. Returns the encrypted message string.\n",
    "    keySize, n, e = readKeyFile(keyFilename)\n",
    "\n",
    "    # Check that key size is greater than block size.\n",
    "    if keySize < blockSize * 8: # * 8 to convert bytes to bits\n",
    "        sys.exit('ERROR: Block size is %s bits and key size is %s bits. The RSA cipher requires the block size to be equal to or greater than the key size. Either decrease the block size or use different keys.' % (blockSize * 8, keySize))\n",
    "\n",
    "\n",
    "    # Encrypt the message\n",
    "    encryptedBlocks = encryptMessage(message, (n, e), blockSize)\n",
    "\n",
    "    # Convert the large int values to one string value.\n",
    "    for i in range(len(encryptedBlocks)):\n",
    "        encryptedBlocks[i] = str(encryptedBlocks[i])\n",
    "    encryptedContent = ','.join(encryptedBlocks)\n",
    "\n",
    "    # Write out the encrypted string to the output file.\n",
    "    encryptedContent = '%s_%s_%s' % (len(message), blockSize, encryptedContent)\n",
    "    fo = open(messageFilename, 'w')\n",
    "    fo.write(encryptedContent)\n",
    "    fo.close()\n",
    "    # Also return the encrypted string.\n",
    "    return encryptedContent\n",
    "\n",
    "\n",
    "def readFromFileAndDecrypt(messageFilename, keyFilename):\n",
    "    # Using a key from a key file, read an encrypted message from a file\n",
    "    # and then decrypt it. Returns the decrypted message string.\n",
    "    keySize, n, d = readKeyFile(keyFilename)\n",
    "\n",
    "\n",
    "    # Read in the message length and the encrypted message from the file.\n",
    "    fo = open(messageFilename)\n",
    "    content = fo.read()\n",
    "    messageLength, blockSize, encryptedMessage = content.split(',')\n",
    "    messageLength = int(messageLength)\n",
    "    blockSize = int(blockSize)\n",
    "\n",
    "    # Check that key size is greater than block size.\n",
    "    if keySize < blockSize * 8: # * 8 to convert bytes to bits\n",
    "        sys.exit('ERROR: Block size is %s bits and key size is %s bits. The RSA cipher requires the block size to be equal to or greater than the key size. Did you specify the correct key file and encrypted file?' % (blockSize * 8, keySize))\n",
    "\n",
    "    # Convert the encrypted message into large int values.\n",
    "    encryptedBlocks = []\n",
    "    for block in encryptedMessage.split(','):\n",
    "        encryptedBlocks.append(int(block))\n",
    "\n",
    "    # Decrypt the large int values.\n",
    "    return decryptMessage(encryptedBlocks, messageLength, (n, d), blockSize)\n",
    "\n",
    "\n",
    "# If rsaCipher.py is run (instead of imported as a module) call\n",
    "# the main() function.\n",
    "if __name__ == '__main__':\n",
    "    main()"
   ]
  },
  {
   "cell_type": "code",
   "execution_count": 2,
   "metadata": {},
   "outputs": [
    {
     "name": "stdout",
     "output_type": "stream",
     "text": [
      "Requirement already up-to-date: requests in c:\\conda\\lib\\site-packages (2.22.0)\n",
      "Requirement already satisfied, skipping upgrade: urllib3!=1.25.0,!=1.25.1,<1.26,>=1.21.1 in c:\\conda\\lib\\site-packages (from requests) (1.24.2)\n",
      "Requirement already satisfied, skipping upgrade: chardet<3.1.0,>=3.0.2 in c:\\conda\\lib\\site-packages (from requests) (3.0.4)\n",
      "Requirement already satisfied, skipping upgrade: certifi>=2017.4.17 in c:\\conda\\lib\\site-packages (from requests) (2019.9.11)\n",
      "Requirement already satisfied, skipping upgrade: idna<2.9,>=2.5 in c:\\conda\\lib\\site-packages (from requests) (2.8)\n",
      "Note: you may need to restart the kernel to use updated packages.\n"
     ]
    }
   ],
   "source": [
    "pip install --upgrade requests"
   ]
  },
  {
   "cell_type": "code",
   "execution_count": 10,
   "metadata": {},
   "outputs": [],
   "source": [
    "fo = open(\"publickey.txt\")\n",
    "content = fo.read()\n",
    "fo.close()\n",
    "keySize, n = content.split(\",\")"
   ]
  },
  {
   "cell_type": "code",
   "execution_count": 11,
   "metadata": {},
   "outputs": [
    {
     "data": {
      "text/plain": [
       "'3'"
      ]
     },
     "execution_count": 11,
     "metadata": {},
     "output_type": "execute_result"
    }
   ],
   "source": [
    "keySize"
   ]
  },
  {
   "cell_type": "code",
   "execution_count": 12,
   "metadata": {},
   "outputs": [
    {
     "data": {
      "text/plain": [
       "'70747'"
      ]
     },
     "execution_count": 12,
     "metadata": {},
     "output_type": "execute_result"
    }
   ],
   "source": [
    "n"
   ]
  },
  {
   "cell_type": "code",
   "execution_count": 16,
   "metadata": {},
   "outputs": [
    {
     "data": {
      "text/plain": [
       "['3', '70747']"
      ]
     },
     "execution_count": 16,
     "metadata": {},
     "output_type": "execute_result"
    }
   ],
   "source": [
    "content.split(\",\")"
   ]
  },
  {
   "cell_type": "code",
   "execution_count": 19,
   "metadata": {},
   "outputs": [],
   "source": [
    "def getTextFromBlocks(messageLength, blockSize=DEFAULT_BLOCK_SIZE):\n",
    "    # Converts a list of block integers to the original message string.\n",
    "    # The original message length is needed to properly convert the last\n",
    "    # block integer.\n",
    "    message = []\n",
    "    for blockInt in blockInts:\n",
    "        blockMessage = []\n",
    "        for i in range(blockSize - 1, -1, -1):\n",
    "            if len(message) + i < messageLength:\n",
    "                # Decode the message string for the 128 (or whatever\n",
    "                # blockSize is set to) characters from this block integer.\n",
    "                asciiNumber = blockInt // (BYTE_SIZE ** i)\n",
    "                blockInt = blockInt % (BYTE_SIZE ** i)\n",
    "                blockMessage.insert(0, chr(asciiNumber))\n",
    "        message.extend(blockMessage)\n",
    "    return ''.join(message)"
   ]
  },
  {
   "cell_type": "code",
   "execution_count": 21,
   "metadata": {},
   "outputs": [
    {
     "name": "stdout",
     "output_type": "stream",
     "text": [
      "[2595981310011766837799084342779807118111023177]\n"
     ]
    }
   ],
   "source": [
    "def getBlocksFromText():\n",
    "    # Converts a string message to a list of block integers. Each integer\n",
    "    # represents 128 (or whatever blockSize is set to) string characters.\n",
    "    # (\"Hello Message\", blockSize=DEFAULT_BLOCK_SIZE\n",
    "    blockSize=DEFAULT_BLOCK_SIZE\n",
    "    message = \"I loev coding right\"\n",
    "    messageBytes = message.encode('ascii') # convert the string to bytes\n",
    "\n",
    "    blockInts = []\n",
    "    for blockStart in range(0, len(messageBytes), blockSize):\n",
    "        # Calculate the block integer for this block of text\n",
    "        blockInt = 0\n",
    "        for i in range(blockStart, min(blockStart + blockSize, len(messageBytes))):\n",
    "            blockInt += messageBytes[i] * (BYTE_SIZE ** (i % blockSize))\n",
    "        blockInts.append(blockInt)\n",
    "    print(blockInts)\n",
    "\n",
    "getBlocksFromText()"
   ]
  },
  {
   "cell_type": "code",
   "execution_count": 22,
   "metadata": {},
   "outputs": [],
   "source": [
    "def decryptMessage(encryptedBlocks, messageLength, key, blockSize=DEFAULT_BLOCK_SIZE):\n",
    "    # Decrypts a list of encrypted block ints into the original message\n",
    "    # string. The original message length is required to properly decrypt\n",
    "    # the last block. Be sure to pass the PRIVATE key to decrypt.\n",
    "    decryptedBlocks = []\n",
    "    n, d = key\n",
    "    for block in encryptedBlocks:\n",
    "        # plaintext = ciphertext ^ d mod n\n",
    "        decryptedBlocks.append(pow(block, d, n))\n",
    "    print(getTextFromBlocks(decryptedBlocks, messageLength, blockSize))\n"
   ]
  },
  {
   "cell_type": "code",
   "execution_count": null,
   "metadata": {},
   "outputs": [],
   "source": []
  }
 ],
 "metadata": {
  "kernelspec": {
   "display_name": "Python 3",
   "language": "python",
   "name": "python3"
  },
  "language_info": {
   "codemirror_mode": {
    "name": "ipython",
    "version": 3
   },
   "file_extension": ".py",
   "mimetype": "text/x-python",
   "name": "python",
   "nbconvert_exporter": "python",
   "pygments_lexer": "ipython3",
   "version": "3.7.4"
  }
 },
 "nbformat": 4,
 "nbformat_minor": 2
}
